{
 "cells": [
  {
   "cell_type": "code",
   "execution_count": 2,
   "metadata": {},
   "outputs": [],
   "source": [
    "import numpy as np\n",
    "import matplotlib.pyplot as plt\n",
    "import matplotlib.colors\n",
    "import pandas as pd\n",
    "from sklearn.model_selection import train_test_split\n",
    "from sklearn.metrics import accuracy_score, mean_squared_error\n",
    "from tqdm import tqdm_notebook \n",
    "from sklearn.preprocessing import StandardScaler,MinMaxScaler\n",
    "from sklearn.preprocessing import OneHotEncoder\n",
    "from sklearn.datasets import make_blobs,make_moons\n",
    "from sklearn import datasets "
   ]
  },
  {
   "cell_type": "code",
   "execution_count": 3,
   "metadata": {},
   "outputs": [],
   "source": [
    "class SigmoidNeuron:\n",
    "    def __init__(self):\n",
    "        self.w = None\n",
    "        self.b = None\n",
    "        \n",
    "    def perceptron(self, x):\n",
    "        return np.dot(x, self.w.T) + self.b\n",
    "    \n",
    "    def sigmoid(self, x):\n",
    "        return 1.0/(1.0 + np.exp(-x))\n",
    "    \n",
    "    def grad_w_mse(self, x, y):\n",
    "        y_pred = self.sigmoid(self.perceptron(x))\n",
    "        return (y_pred - y) * y_pred * (1 - y_pred) * x\n",
    "  \n",
    "    def grad_b_mse(self, x, y):\n",
    "        y_pred = self.sigmoid(self.perceptron(x))\n",
    "        return (y_pred - y) * y_pred * (1 - y_pred)\n",
    "  \n",
    "    def grad_w_ce(self, x, y):\n",
    "        y_pred = self.sigmoid(self.perceptron(x))\n",
    "        if y == 0:\n",
    "            return y_pred * x\n",
    "        elif y == 1:\n",
    "            return -1 * (1 - y_pred) * x\n",
    "        else:\n",
    "            raise ValueError(\"y should be 0 or 1\")\n",
    "    \n",
    "    def grad_b_ce(self, x, y):\n",
    "        y_pred = self.sigmoid(self.perceptron(x))\n",
    "        if y == 0:\n",
    "            return y_pred \n",
    "        elif y == 1:\n",
    "            return -1 * (1 - y_pred)\n",
    "        else:\n",
    "            raise ValueError(\"y should be 0 or 1\")\n",
    "            \n",
    "    def fit(self, X, Y, epochs=1, learning_rate=1, initialise=True, loss_fn=\"mse\", display_loss=False):\n",
    "        \n",
    "        if initialise:\n",
    "            self.w = np.random.randn(1, X.shape[1])\n",
    "            self.b = 0\n",
    "            \n",
    "        if display_loss:\n",
    "            loss = {}\n",
    "        \n",
    "        for i in tqdm_notebook(range(epochs), total=epochs, unit=\"epoch\"):\n",
    "            dw = 0\n",
    "            db = 0\n",
    "            for x, y in zip(X, Y):\n",
    "                if loss_fn == \"mse\":\n",
    "                    dw += self.grad_w_mse(x, y)\n",
    "                    db += self.grad_b_mse(x, y)\n",
    "                elif loss_fn == \"ce\":\n",
    "                    dw += self.grad_w_ce(x, y)\n",
    "                    db += self.grad_b_ce(x, y)\n",
    "                    \n",
    "            m = X.shape[1]  \n",
    "            self.w -= learning_rate * dw/m\n",
    "            self.b -= learning_rate * db/m\n",
    "            \n",
    "            if display_loss:\n",
    "                Y_pred = self.sigmoid(self.perceptron(X))\n",
    "                if loss_fn == \"mse\":\n",
    "                    loss[i] = mean_squared_error(Y, Y_pred)\n",
    "                elif loss_fn == \"ce\":\n",
    "                    loss[i] = log_loss(Y, Y_pred)\n",
    "                    \n",
    "            if display_loss:\n",
    "                plt.plot(np.array(list(loss.values())).astype(float))\n",
    "                plt.xlabel('Epochs')\n",
    "            if loss_fn == \"mse\":\n",
    "                 plt.ylabel('Mean Squared Error')\n",
    "            elif loss_fn == \"ce\":\n",
    "                plt.ylabel('Log Loss')\n",
    "                plt.grid()\n",
    "                plt.show()\n",
    "                \n",
    "    def predict(self, X):\n",
    "        Y_pred = []\n",
    "        for x in X:\n",
    "            y_pred = self.sigmoid(self.perceptron(x))\n",
    "            Y_pred.append(y_pred)\n",
    "        return np.array(Y_pred)"
   ]
  },
  {
   "cell_type": "code",
   "execution_count": 4,
   "metadata": {},
   "outputs": [],
   "source": [
    "class FFNetwork:\n",
    "    def __init__(self):\n",
    "        self.w1 = np.random.randn()\n",
    "        self.w2 = np.random.randn()\n",
    "        self.w3 = np.random.randn()\n",
    "        self.w4 = np.random.randn()\n",
    "        self.w5 = np.random.randn()\n",
    "        self.w6 = np.random.randn()\n",
    "        self.w7 = np.random.randn()\n",
    "        self.w8 = np.random.randn()\n",
    "        self.w9 = np.random.randn()\n",
    "        self.w10 = np.random.randn()\n",
    "        self.b1 = 0\n",
    "        self.b2 = 0\n",
    "        self.b3 = 0\n",
    "        \n",
    "    def sigmoid(self, x):\n",
    "        return 1.0/(1.0 + np.exp(-x))\n",
    "    \n",
    "    def forward_pass(self, x):\n",
    "        self.x1, self.x2 ,self.x3, self.x4= x\n",
    "        self.a1 = self.w1*self.x1 + self.w2*self.x2 + self.w3*self.x3 + self.w4*self.x4 +self.b1\n",
    "        self.h1 = self.sigmoid(self.a1)\n",
    "        self.a2 = self.w5*self.x1 + self.w6*self.x2 + self.w7*self.x1 + self.w8*self.x2 +self.b2\n",
    "        self.h2 = self.sigmoid(self.a2)\n",
    "        self.a3 = self.w9*self.h1 + self.w10*self.h2 + self.b3\n",
    "        self.h3 = self.sigmoid(self.a3)\n",
    "        return self.h3\n",
    "    def grad(self, x, y):\n",
    "        self.forward_pass(x)\n",
    "        \n",
    "        self.dw9 = (self.h3-y) * self.h3*(1-self.h3) * self.h1\n",
    "        self.dw10 = (self.h3-y) * self.h3*(1-self.h3) * self.h2\n",
    "        self.db3 = (self.h3-y) * self.h3*(1-self.h3)\n",
    "    \n",
    "        self.dw1 = (self.h3-y) * self.h3*(1-self.h3) * self.w9 * self.h1*(1-self.h1) * self.x1\n",
    "        self.dw2 = (self.h3-y) * self.h3*(1-self.h3) * self.w9 * self.h1*(1-self.h1) * self.x2\n",
    "        self.dw3 = (self.h3-y) * self.h3*(1-self.h3) * self.w9 * self.h1*(1-self.h1) * self.x3\n",
    "        self.dw4 = (self.h3-y) * self.h3*(1-self.h3) * self.w9 * self.h1*(1-self.h1) * self.x3\n",
    "        self.db1 = (self.h3-y) * self.h3*(1-self.h3) * self.w9 * self.h1*(1-self.h1)\n",
    "  \n",
    "        self.dw5 = (self.h3-y) * self.h3*(1-self.h3) * self.w10 * self.h2*(1-self.h2) * self.x1\n",
    "        self.dw6 = (self.h3-y) * self.h3*(1-self.h3) * self.w10 * self.h2*(1-self.h2) * self.x2\n",
    "        self.dw7 = (self.h3-y) * self.h3*(1-self.h3) * self.w10 * self.h1*(1-self.h1) * self.x3\n",
    "        self.dw8 = (self.h3-y) * self.h3*(1-self.h3) * self.w10 * self.h1*(1-self.h1) * self.x4\n",
    "        self.db2 = (self.h3-y) * self.h3*(1-self.h3) * self.w10 * self.h2*(1-self.h2)\n",
    "        \n",
    "    def fit(self, X, Y, epochs=1, learning_rate=1, initialise=True, display_loss=False):\n",
    "        \n",
    "        if initialise:\n",
    "            self.w1 = np.random.randn()\n",
    "            self.w2 = np.random.randn()\n",
    "            self.w3 = np.random.randn()\n",
    "            self.w4 = np.random.randn()\n",
    "            self.w5 = np.random.randn()\n",
    "            self.w6 = np.random.randn()\n",
    "            self.w7 = np.random.randn()\n",
    "            self.w8 = np.random.randn()\n",
    "            self.w9 = np.random.randn()\n",
    "            self.w10 = np.random.randn()\n",
    "            self.b1 = 0\n",
    "            self.b2 = 0\n",
    "            self.b3 = 0\n",
    "      \n",
    "        if display_loss:\n",
    "            loss = {}\n",
    "            \n",
    "        for i in tqdm_notebook(range(epochs), total=epochs, unit=\"epoch\"):\n",
    "            dw1, dw2, dw3, dw4, dw5, dw6,dw7,dw8,dw9,dw10, db1, db2, db3 = [0]*13\n",
    "            for x, y in zip(X, Y):\n",
    "                self.grad(x, y)\n",
    "                dw1 += self.dw1\n",
    "                dw2 += self.dw2\n",
    "                dw3 += self.dw3\n",
    "                dw4 += self.dw4\n",
    "                dw5 += self.dw5\n",
    "                dw6 += self.dw6\n",
    "                dw7 += self.dw7\n",
    "                dw8 += self.dw8\n",
    "                dw9 += self.dw9\n",
    "                dw10 += self.dw10\n",
    "                db1 += self.db1\n",
    "                db2 += self.db2\n",
    "                db3 += self.db3\n",
    "                \n",
    "            m = X.shape[1]\n",
    "            self.w1 -= learning_rate * dw1 / m\n",
    "            self.w2 -= learning_rate * dw2 / m\n",
    "            self.w3 -= learning_rate * dw3 / m\n",
    "            self.w4 -= learning_rate * dw4 / m\n",
    "            self.w5 -= learning_rate * dw5 / m\n",
    "            self.w6 -= learning_rate * dw6 / m\n",
    "            self.w7 -= learning_rate * dw7 / m\n",
    "            self.w8 -= learning_rate * dw8 / m\n",
    "            self.w9 -= learning_rate * dw9 / m\n",
    "            self.w10 -= learning_rate * dw10 / m\n",
    "            self.b1 -= learning_rate * db1 / m\n",
    "            self.b2 -= learning_rate * db2 / m\n",
    "            self.b3 -= learning_rate * db3 / m\n",
    "            \n",
    "            if display_loss:\n",
    "                Y_pred = self.predict(X)\n",
    "                loss[i] = mean_squared_error(Y_pred, Y)\n",
    "                \n",
    "        \n",
    "        if display_loss:\n",
    "            plt.plot(np.array(list(loss.values())).astype(float))\n",
    "            plt.xlabel('Epochs')\n",
    "            plt.ylabel('Mean Squared Error')\n",
    "            plt.show()\n",
    "    def predict(self, X):\n",
    "        Y_pred = []\n",
    "        for x in X:\n",
    "            y_pred = self.forward_pass(x)\n",
    "            Y_pred.append(y_pred)\n",
    "        return np.array(Y_pred)"
   ]
  },
  {
   "cell_type": "code",
   "execution_count": 61,
   "metadata": {},
   "outputs": [
    {
     "data": {
      "text/plain": [
       "((70, 4), (30, 4))"
      ]
     },
     "execution_count": 61,
     "metadata": {},
     "output_type": "execute_result"
    }
   ],
   "source": [
    "iris=datasets.load_iris()\n",
    "a=pd.DataFrame(iris.data,columns=iris.feature_names)\n",
    "a['target']=iris.target\n",
    "df=a[:100]\n",
    "x=df.drop('target',axis=1)\n",
    "y=df['target']\n",
    "X_train, X_val, Y_train, Y_val = train_test_split(x,y, stratify=y, random_state=42,test_size=.3)\n",
    "X_train.shape, X_val.shape"
   ]
  },
  {
   "cell_type": "code",
   "execution_count": 67,
   "metadata": {},
   "outputs": [
    {
     "name": "stderr",
     "output_type": "stream",
     "text": [
      "<ipython-input-3-90c7ef78b848>:47: TqdmDeprecationWarning: This function will be removed in tqdm==5.0.0\n",
      "Please use `tqdm.notebook.tqdm` instead of `tqdm.tqdm_notebook`\n",
      "  for i in tqdm_notebook(range(epochs), total=epochs, unit=\"epoch\"):\n"
     ]
    },
    {
     "data": {
      "application/vnd.jupyter.widget-view+json": {
       "model_id": "46a237bcdb464937b544c827bde65a1b",
       "version_major": 2,
       "version_minor": 0
      },
      "text/plain": [
       "HBox(children=(FloatProgress(value=0.0, max=2000.0), HTML(value='')))"
      ]
     },
     "metadata": {},
     "output_type": "display_data"
    },
    {
     "name": "stdout",
     "output_type": "stream",
     "text": [
      "\n"
     ]
    },
    {
     "data": {
      "image/png": "[encoded data removed]",
      "text/plain": [
       "<Figure size 432x288 with 1 Axes>"
      ]
     },
     "metadata": {
      "needs_background": "light"
     },
     "output_type": "display_data"
    }
   ],
   "source": [
    "sn = SigmoidNeuron()\n",
    "sn.fit(X_train.values, Y_train.values, epochs=2000, learning_rate=0.1, display_loss=True)"
   ]
  },
  {
   "cell_type": "code",
   "execution_count": 68,
   "metadata": {},
   "outputs": [
    {
     "name": "stdout",
     "output_type": "stream",
     "text": [
      "Training accuracy :  1.0\n",
      "Validation accuracy :  1.0\n"
     ]
    }
   ],
   "source": [
    "Y_pred_train = sn.predict(X_train.values)\n",
    "Y_pred_binarised_train = (Y_pred_train >= 0.5).astype(\"int\").ravel()\n",
    "Y_pred_val = sn.predict(X_val.values)\n",
    "Y_pred_binarised_val = (Y_pred_val >= 0.5).astype(\"int\").ravel()\n",
    "accuracy_train = accuracy_score(Y_pred_binarised_train, Y_train)\n",
    "accuracy_val = accuracy_score(Y_pred_binarised_val, Y_val)\n",
    "\n",
    "print(\"Training accuracy : \",round(accuracy_train,2) )\n",
    "print(\"Validation accuracy : \",round(accuracy_val,2))"
   ]
  },
  {
   "cell_type": "code",
   "execution_count": 69,
   "metadata": {},
   "outputs": [
    {
     "name": "stderr",
     "output_type": "stream",
     "text": [
      "<ipython-input-4-c733dd1686c3>:68: TqdmDeprecationWarning: This function will be removed in tqdm==5.0.0\n",
      "Please use `tqdm.notebook.tqdm` instead of `tqdm.tqdm_notebook`\n",
      "  for i in tqdm_notebook(range(epochs), total=epochs, unit=\"epoch\"):\n"
     ]
    },
    {
     "data": {
      "application/vnd.jupyter.widget-view+json": {
       "model_id": "bd9e7d88b4b1413cbb3dc86cced4c4a7",
       "version_major": 2,
       "version_minor": 0
      },
      "text/plain": [
       "HBox(children=(FloatProgress(value=0.0, max=2000.0), HTML(value='')))"
      ]
     },
     "metadata": {},
     "output_type": "display_data"
    },
    {
     "name": "stdout",
     "output_type": "stream",
     "text": [
      "\n"
     ]
    },
    {
     "data": {
      "image/png": "[encoded data removed]",
      "text/plain": [
       "<Figure size 432x288 with 1 Axes>"
      ]
     },
     "metadata": {
      "needs_background": "light"
     },
     "output_type": "display_data"
    }
   ],
   "source": [
    "ffn = FFNetwork()\n",
    "ffn.fit(X_train.values, Y_train.values, epochs=2000, learning_rate=.1, display_loss=True)"
   ]
  },
  {
   "cell_type": "code",
   "execution_count": 70,
   "metadata": {},
   "outputs": [],
   "source": [
    "Y_pred_train = ffn.predict(X_train.values)\n",
    "Y_pred_binarised_train = (Y_pred_train >= 0.5).astype(\"int\").ravel()\n",
    "Y_pred_val = ffn.predict(X_val.values)\n",
    "Y_pred_binarised_val = (Y_pred_val >= 0.5).astype(\"int\").ravel()"
   ]
  },
  {
   "cell_type": "code",
   "execution_count": 71,
   "metadata": {},
   "outputs": [
    {
     "name": "stdout",
     "output_type": "stream",
     "text": [
      "Training accuracy 0.986\n",
      "Validation accuracy 1.0\n"
     ]
    }
   ],
   "source": [
    "accuracy_train = accuracy_score(Y_pred_binarised_train, Y_train)\n",
    "accuracy_val = accuracy_score(Y_pred_binarised_val, Y_val)\n",
    "print(\"Training accuracy\", round(accuracy_train, 3))\n",
    "print(\"Validation accuracy\", round(accuracy_val, 3))"
   ]
  },
  {
   "cell_type": "code",
   "execution_count": 31,
   "metadata": {},
   "outputs": [],
   "source": [
    "data, labels = make_blobs(n_samples=1000, centers=4, n_features=4, random_state=0)\n",
    "(data.shape, labels.shape)\n",
    "labels_orig = labels\n",
    "labels = np.mod(labels_orig, 2)"
   ]
  },
  {
   "cell_type": "code",
   "execution_count": 32,
   "metadata": {},
   "outputs": [
    {
     "data": {
      "image/png": "[encoded data removed]",
      "text/plain": [
       "<Figure size 432x288 with 1 Axes>"
      ]
     },
     "metadata": {
      "needs_background": "light"
     },
     "output_type": "display_data"
    }
   ],
   "source": [
    "my_cmap = matplotlib.colors.LinearSegmentedColormap.from_list(\"\", [\"blue\", \"yellow\", \"brown\"])\n",
    "plt.scatter(data[:,0], data[:,1], c=labels, cmap=my_cmap)\n",
    "plt.show()"
   ]
  },
  {
   "cell_type": "code",
   "execution_count": 41,
   "metadata": {},
   "outputs": [
    {
     "data": {
      "text/plain": [
       "((700, 4), (300, 4))"
      ]
     },
     "execution_count": 41,
     "metadata": {},
     "output_type": "execute_result"
    }
   ],
   "source": [
    "X_train, X_val, Y_train, Y_val = train_test_split(data, labels, stratify=labels, random_state=0,test_size=.3)\n",
    "X_train.shape, X_val.shape"
   ]
  },
  {
   "cell_type": "markdown",
   "metadata": {},
   "source": [
    "# feed forward neural network"
   ]
  },
  {
   "cell_type": "code",
   "execution_count": 42,
   "metadata": {},
   "outputs": [
    {
     "name": "stderr",
     "output_type": "stream",
     "text": [
      "<ipython-input-4-c733dd1686c3>:68: TqdmDeprecationWarning: This function will be removed in tqdm==5.0.0\n",
      "Please use `tqdm.notebook.tqdm` instead of `tqdm.tqdm_notebook`\n",
      "  for i in tqdm_notebook(range(epochs), total=epochs, unit=\"epoch\"):\n"
     ]
    },
    {
     "data": {
      "application/vnd.jupyter.widget-view+json": {
       "model_id": "583ad0f88ea042d893300d8bfd2162bd",
       "version_major": 2,
       "version_minor": 0
      },
      "text/plain": [
       "HBox(children=(FloatProgress(value=0.0, max=2000.0), HTML(value='')))"
      ]
     },
     "metadata": {},
     "output_type": "display_data"
    },
    {
     "name": "stdout",
     "output_type": "stream",
     "text": [
      "\n"
     ]
    },
    {
     "data": {
      "image/png": "[encoded data removed]",
      "text/plain": [
       "<Figure size 432x288 with 1 Axes>"
      ]
     },
     "metadata": {
      "needs_background": "light"
     },
     "output_type": "display_data"
    }
   ],
   "source": [
    "ffn = FFNetwork()\n",
    "ffn.fit(X_train, Y_train, epochs=2000, learning_rate=.01, display_loss=True)"
   ]
  },
  {
   "cell_type": "code",
   "execution_count": 43,
   "metadata": {},
   "outputs": [],
   "source": [
    "Y_pred_train = ffn.predict(X_train)\n",
    "Y_pred_binarised_train = (Y_pred_train >= 0.5).astype(\"int\").ravel()\n",
    "Y_pred_val = ffn.predict(X_val)\n",
    "Y_pred_binarised_val = (Y_pred_val >= 0.5).astype(\"int\").ravel()"
   ]
  },
  {
   "cell_type": "code",
   "execution_count": 44,
   "metadata": {},
   "outputs": [
    {
     "name": "stdout",
     "output_type": "stream",
     "text": [
      "Training accuracy 0.969\n",
      "Validation accuracy 0.967\n"
     ]
    }
   ],
   "source": [
    "accuracy_train = accuracy_score(Y_pred_binarised_train, Y_train)\n",
    "accuracy_val = accuracy_score(Y_pred_binarised_val, Y_val)\n",
    "print(\"Training accuracy\", round(accuracy_train, 3))\n",
    "print(\"Validation accuracy\", round(accuracy_val, 3))"
   ]
  },
  {
   "cell_type": "markdown",
   "metadata": {},
   "source": [
    "# sigmoid neuron"
   ]
  },
  {
   "cell_type": "code",
   "execution_count": 45,
   "metadata": {},
   "outputs": [
    {
     "name": "stderr",
     "output_type": "stream",
     "text": [
      "<ipython-input-3-90c7ef78b848>:47: TqdmDeprecationWarning: This function will be removed in tqdm==5.0.0\n",
      "Please use `tqdm.notebook.tqdm` instead of `tqdm.tqdm_notebook`\n",
      "  for i in tqdm_notebook(range(epochs), total=epochs, unit=\"epoch\"):\n"
     ]
    },
    {
     "data": {
      "application/vnd.jupyter.widget-view+json": {
       "model_id": "125b3d9011814b5090cb9626cb28c23d",
       "version_major": 2,
       "version_minor": 0
      },
      "text/plain": [
       "HBox(children=(FloatProgress(value=0.0, max=2000.0), HTML(value='')))"
      ]
     },
     "metadata": {},
     "output_type": "display_data"
    },
    {
     "name": "stdout",
     "output_type": "stream",
     "text": [
      "\n"
     ]
    },
    {
     "data": {
      "image/png": "[encoded data removed]",
      "text/plain": [
       "<Figure size 432x288 with 1 Axes>"
      ]
     },
     "metadata": {
      "needs_background": "light"
     },
     "output_type": "display_data"
    }
   ],
   "source": [
    "sn = SigmoidNeuron()\n",
    "sn.fit(X_train, Y_train, epochs=2000, learning_rate=.01, display_loss=True)"
   ]
  },
  {
   "cell_type": "code",
   "execution_count": 48,
   "metadata": {},
   "outputs": [],
   "source": [
    "Y_pred_train = sn.predict(X_train)\n",
    "Y_pred_binarised_train = (Y_pred_train >= 0.5).astype(\"int\").ravel()\n",
    "Y_pred_val = sn.predict(X_val)\n",
    "Y_pred_binarised_val = (Y_pred_val >= 0.5).astype(\"int\").ravel()"
   ]
  },
  {
   "cell_type": "code",
   "execution_count": 49,
   "metadata": {},
   "outputs": [
    {
     "name": "stdout",
     "output_type": "stream",
     "text": [
      "Training accuracy 0.747\n",
      "Validation accuracy 0.757\n"
     ]
    }
   ],
   "source": [
    "accuracy_train = accuracy_score(Y_pred_binarised_train, Y_train)\n",
    "accuracy_val = accuracy_score(Y_pred_binarised_val, Y_val)\n",
    "print(\"Training accuracy\", round(accuracy_train, 3))\n",
    "print(\"Validation accuracy\", round(accuracy_val, 3))"
   ]
  },
  {
   "cell_type": "code",
   "execution_count": null,
   "metadata": {},
   "outputs": [],
   "source": []
  }
 ],
 "metadata": {
  "kernelspec": {
   "display_name": "Python 3",
   "language": "python",
   "name": "python3"
  },
  "language_info": {
   "codemirror_mode": {
    "name": "ipython",
    "version": 3
   },
   "file_extension": ".py",
   "mimetype": "text/x-python",
   "name": "python",
   "nbconvert_exporter": "python",
   "pygments_lexer": "ipython3",
   "version": "3.8.3"
  }
 },
 "nbformat": 4,
 "nbformat_minor": 4
}
